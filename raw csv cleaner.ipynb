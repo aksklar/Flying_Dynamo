{
 "cells": [
  {
   "cell_type": "code",
   "execution_count": 1,
   "metadata": {
    "collapsed": true
   },
   "outputs": [],
   "source": [
    "import pandas as pd\n",
    "import numpy as np"
   ]
  },
  {
   "cell_type": "code",
   "execution_count": 3,
   "metadata": {},
   "outputs": [],
   "source": [
    "#for year in years:\n",
    "#csv_df.rename(columns={\"vet_pop\": f\"vet_pop_{year}\", \"overall_pop_18\" : \"overall_pop_18_{year}\", \"vet\"} )\n",
    "years = [2005, 2006, 2007, 2008, 2009, 2010, 2011]\n",
    "for year in years:\n",
    "    csv_df = pd.read_csv(f\"us-veteran-suicides-raw/{year}.csv\")\n",
    "    \n",
    "    for x in np.arange(2,8,1):\n",
    "        csv_df.columns.values[x] = csv_df.columns.values[x] + f\"{year}\"\n",
    "        \n",
    "    csv_df.to_csv(f\"modified_csvs/{year}.csv\")\n",
    "\n",
    "\n"
   ]
  },
  {
   "cell_type": "code",
   "execution_count": null,
   "metadata": {
    "collapsed": true
   },
   "outputs": [],
   "source": []
  }
 ],
 "metadata": {
  "kernelspec": {
   "display_name": "Python [conda env:PythonData]",
   "language": "python",
   "name": "conda-env-PythonData-py"
  },
  "language_info": {
   "codemirror_mode": {
    "name": "ipython",
    "version": 3
   },
   "file_extension": ".py",
   "mimetype": "text/x-python",
   "name": "python",
   "nbconvert_exporter": "python",
   "pygments_lexer": "ipython3",
   "version": "3.6.3"
  }
 },
 "nbformat": 4,
 "nbformat_minor": 2
}
